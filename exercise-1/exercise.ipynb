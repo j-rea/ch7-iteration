{
 "cells": [
  {
   "cell_type": "markdown",
   "metadata": {},
   "source": [
    "# Exercise 1\n",
    "Add the specified code for each code cell, running the cells _in order_."
   ]
  },
  {
   "cell_type": "markdown",
   "metadata": {},
   "source": [
    "Write a **`while`** loop that prints out every 5th number (multiples of 5) from 0 to 100 (inclusive).\n",
    "- _Tip:_ use an **`end=','`** keyword argument to the `print()` function to print all the numbers on the same line."
   ]
  },
  {
   "cell_type": "code",
   "execution_count": 1,
   "metadata": {},
   "outputs": [
    {
     "name": "stdout",
     "output_type": "stream",
     "text": [
      "0, 5, 10, 15, 20, 25, 30, 35, 40, 45, 50, 55, 60, 65, 70, 75, 80, 85, 90, 95, 100, "
     ]
    }
   ],
   "source": [
    "count = 0\n",
    "while count <= 100:\n",
    "    print(count, end=', ')\n",
    "    count = count + 5"
   ]
  },
  {
   "cell_type": "markdown",
   "metadata": {},
   "source": [
    "Use a **`while`** loop to print out the first 15 [Triangular numbers](https://en.wikipedia.org/wiki/Triangular_number). This is a sequence of numbers for which the _nth_ value is the sum of the numbers from 0 to _n_. **Do this only using addition!**\n",
    "- _Hint:_ use an additional variable to keep track of the `total` value, and have that value increase by the number of times you've been through the loop each iteration!"
   ]
  },
  {
   "cell_type": "code",
   "execution_count": 2,
   "metadata": {},
   "outputs": [
    {
     "name": "stdout",
     "output_type": "stream",
     "text": [
      "1, 3, 6, 10, 15, 21, 28, 36, 45, 55, 66, 78, 91, 105, 120, "
     ]
    }
   ],
   "source": [
    "n = 0\n",
    "add = 0\n",
    "\n",
    "while n <= 105:\n",
    "    if n == 0:\n",
    "        Total = n + 1\n",
    "        print(Total, end=\", \")\n",
    "        n = Total\n",
    "        add = (add + 1)\n",
    "    else:\n",
    "        Total = n + (add + 1)\n",
    "        print(Total, end=\", \")\n",
    "        n = Total\n",
    "        add = (add + 1) "
   ]
  },
  {
   "cell_type": "markdown",
   "metadata": {},
   "source": [
    "_Challenge_ Use a **`while`** loop to print out 20 numbers, each of which is larger than the previous by the the _sum_ of the **two** previous numbers (the [Fibonacci sequence](https://en.wikipedia.org/wiki/Fibonacci_number).\n",
    "- _Hint_: you'll need to keep track of the two previous values (start them at 0 and 1), and then \"update\" them each time through the loop, storing the  \"new total\" in the first previous variable, and the first previous variable in the second (be careful about the ordering of this!) "
   ]
  },
  {
   "cell_type": "code",
   "execution_count": 3,
   "metadata": {},
   "outputs": [
    {
     "name": "stdout",
     "output_type": "stream",
     "text": [
      "0, 1, 1, 2, 3, 5, 8, 13, 21, 34, 55, 89, 144, 233, 377, 610, 987, 1597, 2584, 4181, 6765, "
     ]
    }
   ],
   "source": [
    "a0 = 0\n",
    "a1 = 1\n",
    "a2 = 0\n",
    "while a0 <= 2584:\n",
    "    if a0 == 0:\n",
    "        a2 = a0 + a1\n",
    "        print(\"0\", \"1\", str(a2), sep=\", \", end=\", \")\n",
    "        a0 = a1\n",
    "        a1 = a2\n",
    "    else:\n",
    "        a2 = a0 + a1\n",
    "        print(str(a2), end=\", \")\n",
    "        a0 = a1\n",
    "        a1 = a2  "
   ]
  },
  {
   "cell_type": "markdown",
   "metadata": {},
   "source": [
    "Use a **`while`** loop to print out a sequence of random numbers from 0 to 10, stopping after the number `4` is printed for the first time. You will need to import the `random` module."
   ]
  },
  {
   "cell_type": "code",
   "execution_count": 4,
   "metadata": {},
   "outputs": [
    {
     "name": "stdout",
     "output_type": "stream",
     "text": [
      "8\n",
      "1\n",
      "9\n",
      "1\n",
      "9\n",
      "7\n",
      "6\n",
      "8\n",
      "7\n",
      "7\n",
      "9\n",
      "5\n",
      "2\n",
      "3\n",
      "6\n",
      "3\n",
      "3\n",
      "2\n",
      "1\n",
      "6\n",
      "5\n",
      "6\n",
      "5\n",
      "9\n",
      "2\n",
      "6\n",
      "8\n",
      "6\n",
      "2\n",
      "3\n",
      "9\n",
      "7\n",
      "9\n",
      "3\n",
      "4\n"
     ]
    }
   ],
   "source": [
    "import random\n",
    "\n",
    "while n != 4:\n",
    "    n = random.randint(1, 10)\n",
    "    print(n)"
   ]
  },
  {
   "cell_type": "markdown",
   "metadata": {},
   "source": [
    "Modify the below \"coin flipping\" example from the course text so that it keeps flipping coins until you get two \"heads\" in a row."
   ]
  },
  {
   "cell_type": "code",
   "execution_count": 5,
   "metadata": {},
   "outputs": [
    {
     "name": "stdout",
     "output_type": "stream",
     "text": [
      "Heads, Heads, "
     ]
    }
   ],
   "source": [
    "# flip a coin until it shows up heads\n",
    "still_flipping = True\n",
    "while still_flipping:\n",
    "    flip = random.randint(0,1)\n",
    "    if flip == 0:\n",
    "        flip = \"Heads\"\n",
    "        print(flip, end=\", \")\n",
    "        flip = random.randint(0,1)\n",
    "        if flip == 0:\n",
    "            flip = \"Heads\"\n",
    "            print(flip, end=\", \")\n",
    "            still_flipping = False\n",
    "    else:\n",
    "        flip = \"Tails\"\n",
    "        print(flip, end=\", \")"
   ]
  },
  {
   "cell_type": "markdown",
   "metadata": {},
   "source": [
    "Define a function **`input_number()`** that takes a minimum and maximum value as arguments. This function should prompt the user to input a number within the range, repeating the prompt if the provided value is not acceptable. Once an acceptable value has been provided, the function should return that number. You can assume that the user-entered input will always be numeric.\n",
    "\n",
    "Be sure and call your function and print its results to test it!"
   ]
  },
  {
   "cell_type": "code",
   "execution_count": 11,
   "metadata": {},
   "outputs": [
    {
     "name": "stdout",
     "output_type": "stream",
     "text": [
      "Enter a number between 0 and 100: 101\n",
      "Enter a number between 0 and 100: 99\n",
      "99\n"
     ]
    }
   ],
   "source": [
    "def import_number(min, max):\n",
    "    guess = int(input(\"Enter a number between \" + str(min) + \" and \"+ str(max) + \": \"))\n",
    "    if min<guess<max:\n",
    "        print(guess)\n",
    "    else:\n",
    "        import_number(min, max)\n",
    "        \n",
    "import_number(0, 100)"
   ]
  }
 ],
 "metadata": {
  "kernelspec": {
   "display_name": "Python 3",
   "language": "python",
   "name": "python3"
  },
  "language_info": {
   "codemirror_mode": {
    "name": "ipython",
    "version": 3
   },
   "file_extension": ".py",
   "mimetype": "text/x-python",
   "name": "python",
   "nbconvert_exporter": "python",
   "pygments_lexer": "ipython3",
   "version": "3.7.1"
  },
  "toc": {
   "colors": {
    "hover_highlight": "#DAA520",
    "running_highlight": "#FF0000",
    "selected_highlight": "#FFD700"
   },
   "moveMenuLeft": true,
   "nav_menu": {
    "height": "30px",
    "width": "252px"
   },
   "navigate_menu": true,
   "number_sections": true,
   "sideBar": true,
   "threshold": 4,
   "toc_cell": false,
   "toc_section_display": "block",
   "toc_window_display": false,
   "widenNotebook": false
  }
 },
 "nbformat": 4,
 "nbformat_minor": 2
}
